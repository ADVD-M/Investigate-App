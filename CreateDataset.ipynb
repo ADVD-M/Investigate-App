{
 "cells": [
  {
   "cell_type": "markdown",
   "id": "24f5d414-2f32-4328-9165-9f2e15338264",
   "metadata": {},
   "source": [
    "# **THIS NOTEBOOK CREATES A SAMPLE DATASET USED TO TRAIN THE MODEL**"
   ]
  },
  {
   "cell_type": "code",
   "execution_count": 6,
   "id": "021a4789-9d90-4241-9845-7d4f41e7ccd8",
   "metadata": {},
   "outputs": [],
   "source": [
    "import pandas as pd\n",
    "import random"
   ]
  },
  {
   "cell_type": "code",
   "execution_count": 7,
   "id": "6a2acae8-20be-4d24-bd51-2101cee74eb6",
   "metadata": {},
   "outputs": [],
   "source": [
    "knowledge_levels = ['Low', 'Medium', 'High']\n",
    "risk_levels = ['Low', 'Medium', 'High']\n",
    "goals = ['Retirement', 'Wealth Growth', 'Short-Term Gain']\n",
    "portfolios = {\n",
    "    ('Low', 'Low', 'Retirement'): 'Conservative',\n",
    "    ('Low', 'Medium', 'Short-Term Gain'): 'Moderate',\n",
    "    ('Medium', 'Medium', 'Retirement'): 'Moderate',\n",
    "    ('High', 'High', 'Wealth Growth'): 'Aggressive',\n",
    "    ('High', 'Medium', 'Wealth Growth'): 'Aggressive',\n",
    "    ('Medium', 'High', 'Short-Term Gain'): 'Moderate',\n",
    "    ('High', 'Low', 'Retirement'): 'Moderate',\n",
    "    'default': 'Moderate'\n",
    "}"
   ]
  },
  {
   "cell_type": "code",
   "execution_count": 8,
   "id": "4c9e8701-395d-4824-80e8-1d8e366eb8c2",
   "metadata": {},
   "outputs": [],
   "source": [
    "# this is a function to assign the portfolio for each person\n",
    "def get_portfolio(knowledge, risk, goal):\n",
    "    return portfolios.get((knowledge, risk, goal), portfolios['default'])"
   ]
  },
  {
   "cell_type": "code",
   "execution_count": 9,
   "id": "2b4db5ec-db8b-486c-bc70-02ed9fa6087a",
   "metadata": {},
   "outputs": [],
   "source": [
    "# generating random rows for our dataset using the random function\n",
    "\n",
    "rows = []\n",
    "for _ in range(5000):\n",
    "    age = random.randint(20, 80)\n",
    "    income = random.randint(300000, 1500000)\n",
    "    knowledge = random.choice(knowledge_levels)\n",
    "    risk = random.choice(risk_levels)\n",
    "    goal = random.choice(goals)\n",
    "    portfolio = get_portfolio(knowledge, risk, goal)\n",
    "    \n",
    "    rows.append({\n",
    "        'Age': age,\n",
    "        'Income': income,\n",
    "        'Knowledge': knowledge,\n",
    "        'Risk': risk,\n",
    "        'Goal': goal,\n",
    "        'Portfolio': portfolio\n",
    "    })"
   ]
  },
  {
   "cell_type": "code",
   "execution_count": 10,
   "id": "fec3e2f4-2243-4e5b-b8b9-680be6375b5d",
   "metadata": {},
   "outputs": [],
   "source": [
    "# creating a dataframe from this dataset\n",
    "\n",
    "df = pd.DataFrame(rows)\n",
    "\n",
    "# Save to CSV\n",
    "df.to_csv(r'C:/Users/Admin/Desktop/Investigate app/portfolio_data.csv', index=False)\n"
   ]
  },
  {
   "cell_type": "code",
   "execution_count": null,
   "id": "85c1bfe7-ee11-4eee-8f9e-c63ae07bd95f",
   "metadata": {},
   "outputs": [],
   "source": []
  }
 ],
 "metadata": {
  "kernelspec": {
   "display_name": "Python [conda env:anaconda3new] *",
   "language": "python",
   "name": "conda-env-anaconda3new-py"
  },
  "language_info": {
   "codemirror_mode": {
    "name": "ipython",
    "version": 3
   },
   "file_extension": ".py",
   "mimetype": "text/x-python",
   "name": "python",
   "nbconvert_exporter": "python",
   "pygments_lexer": "ipython3",
   "version": "3.12.7"
  }
 },
 "nbformat": 4,
 "nbformat_minor": 5
}
